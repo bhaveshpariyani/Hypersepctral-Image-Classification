{
  "nbformat": 4,
  "nbformat_minor": 0,
  "metadata": {
    "colab": {
      "name": "Project Code.ipynb",
      "provenance": [],
      "collapsed_sections": []
    },
    "kernelspec": {
      "name": "python3",
      "display_name": "Python 3"
    }
  },
  "cells": [
    {
      "cell_type": "code",
      "metadata": {
        "id": "e1EpG34o6WqO"
      },
      "source": [
        "!pip install spectral\n",
        "import scipy.io as sio\n",
        "from sklearn.preprocessing import StandardScaler\n",
        "from sklearn.svm import SVC\n",
        "import spectral\n",
        "from sklearn.metrics import accuracy_score\n",
        "from sklearn.decomposition import PCA\n",
        "import numpy as np\n",
        "from sklearn.decomposition import FactorAnalysis\n",
        "import pandas as pd\n",
        "from sklearn.decomposition import KernelPCA \n",
        "from sklearn.manifold import LocallyLinearEmbedding\n",
        "from sklearn.manifold import locally_linear_embedding\n",
        "from sklearn.manifold import MDS\n",
        "from sklearn.metrics import confusion_matrix, accuracy_score, classification_report, cohen_kappa_score\n",
        "from operator import truediv\n"
      ],
      "execution_count": null,
      "outputs": []
    },
    {
      "cell_type": "code",
      "metadata": {
        "id": "dk28Xs_y6dRV"
      },
      "source": [
        "# Dataset\n",
        "X = sio.loadmat('DATASETS/Indian_pines_corrected.mat')['indian_pines_corrected']\n",
        "y = sio.loadmat('DATASETS/Indian_pines_gt.mat')['indian_pines_gt']"
      ],
      "execution_count": null,
      "outputs": []
    },
    {
      "cell_type": "code",
      "metadata": {
        "id": "XRQMGHvk6fZA"
      },
      "source": [
        "#remove 0 label data points\n",
        "X_LLE = np.reshape(X, (-1, X.shape[2]))\n",
        "newy = y.ravel()\n",
        "\n",
        "data = []\n",
        "y_new = []\n",
        "for i,j in zip(newy,X_LLE):\n",
        "  if (i!=0):\n",
        "    y_new.append(i)\n",
        "    data.append(j)\n",
        "data = np.array(data)\n",
        "y_new = np.array(y_new)"
      ],
      "execution_count": null,
      "outputs": []
    },
    {
      "cell_type": "code",
      "metadata": {
        "id": "OQgPjxGH6lT9"
      },
      "source": [
        "def applyKPCA(X,kernel_, numComponents=75):\n",
        "    kpca = KernelPCA(kernel =kernel_,n_components = numComponents) \n",
        "    newX = kpca.fit_transform(X)\n",
        "    return newX"
      ],
      "execution_count": null,
      "outputs": []
    },
    {
      "cell_type": "code",
      "metadata": {
        "id": "s9mhc71F6xGJ"
      },
      "source": [
        "def applyPCA(X, numComponents=75):\n",
        "    pca = PCA(n_components=numComponents, whiten=True)\n",
        "    newX = pca.fit_transform(X)\n",
        "    return newX,pca"
      ],
      "execution_count": null,
      "outputs": []
    },
    {
      "cell_type": "code",
      "metadata": {
        "id": "rO-lAZON61La"
      },
      "source": [
        "def applyFA(X,K):\n",
        "  transformer = FactorAnalysis(n_components=K)\n",
        "  X_transformed = transformer.fit_transform(X)\n",
        "  return X_transformed"
      ],
      "execution_count": null,
      "outputs": []
    },
    {
      "cell_type": "code",
      "metadata": {
        "id": "7vmY1yfm68h7"
      },
      "source": [
        "def applyLDA(X,y,K):\n",
        "  clf = LinearDiscriminantAnalysis(n_components=K)\n",
        "  X_transformed = clf.fit_transform(X,y)\n",
        "  return X_transformed"
      ],
      "execution_count": null,
      "outputs": []
    },
    {
      "cell_type": "code",
      "metadata": {
        "id": "64Hq534P7LDF"
      },
      "source": [
        "def applyLLE(X,K,v):\n",
        "  embedding = LocallyLinearEmbedding(n_components=K,n_neighbors = v)\n",
        "  X_transformed = embedding.fit_transform(X)\n",
        "  return X_transformed"
      ],
      "execution_count": null,
      "outputs": []
    },
    {
      "cell_type": "code",
      "metadata": {
        "id": "wZmc38Kq7dH0"
      },
      "source": [
        "def applyMDS(X,K):\n",
        "  embedding = embedding = MDS(n_components=K)\n",
        "  X_transformed = embedding.fit_transform(X)\n",
        "  return X_transformed"
      ],
      "execution_count": null,
      "outputs": []
    },
    {
      "cell_type": "code",
      "metadata": {
        "id": "P_BA3UibAvjz"
      },
      "source": [
        "def AA_andEachClassAccuracy(confusion_matrix):\n",
        "    counter = confusion_matrix.shape[0]\n",
        "    list_diag = np.diag(confusion_matrix)\n",
        "    list_raw_sum = np.sum(confusion_matrix, axis=1)\n",
        "    each_acc = np.nan_to_num(truediv(list_diag, list_raw_sum))\n",
        "    average_acc = np.mean(each_acc)\n",
        "    return each_acc, average_acc"
      ],
      "execution_count": null,
      "outputs": []
    },
    {
      "cell_type": "markdown",
      "metadata": {
        "id": "05uSPOb77-n0"
      },
      "source": [
        "#Gridsearch on SVM"
      ]
    },
    {
      "cell_type": "code",
      "metadata": {
        "id": "dPZruGx-8NAL"
      },
      "source": [
        "PCA_X,pca = applyPCA(data,30)"
      ],
      "execution_count": null,
      "outputs": []
    },
    {
      "cell_type": "code",
      "metadata": {
        "id": "44vmjaqV8B8g"
      },
      "source": [
        "#split dataset in train-test\n",
        "from sklearn.model_selection import train_test_split\n",
        "X_train, X_test, y_train, y_test = train_test_split(PCA_X, y_new, test_size=0.3, random_state=345,stratify=y_new)"
      ],
      "execution_count": null,
      "outputs": []
    },
    {
      "cell_type": "code",
      "metadata": {
        "id": "QFS1UqM68e7g"
      },
      "source": [
        "#paramteres for SVM\n",
        "gamma=['scale','auto',0.0001,0.001,0.01,0.1,0.25,0.5,1,2,4,8,10,16,100,128,256,300,450,500]\n",
        "C=[0.01,0.1,0.25,0.5,1,2,4,8,10,16,32,64,128,256,300,450]\n",
        "degree = [2,3,4,5,6,7,8,9,10,11,12,13,14,15,16,17,18,19,20]\n",
        "fun = ['ovo','ovr']\n",
        "\n",
        "param = {}\n",
        "\n",
        "kernel = 'poly'\n",
        "\n",
        "if(kernel == 'poly'):\n",
        "  for i in fun:\n",
        "    for j in C:\n",
        "      for k in degree:\n",
        "        svm = SVC(kernel=kernel,degree=k,C=j,verbose=3,fun = i)\n",
        "        svm.fit(X_train, y_train)\n",
        "        param[(i,j,k)] = svm.score(X_test,y_test)\n",
        "\n",
        "elif (kernel == 'rbf'):\n",
        "  for i in fun:\n",
        "    for j in C:\n",
        "      for k in gamma:\n",
        "        svm = SVC(kernel=kernel,gamma=k,C=j,verbose=3,fun = i)\n",
        "        svm.fit(X_train, y_train)\n",
        "        param[(i,j,k)] = svm.score(X_test,y_test)\n",
        "\n",
        "else:\n",
        "  for i in fun:\n",
        "    for j in C:\n",
        "        svm = SVC(kernel=kernel,C=j,verbose=3,fun = i)\n",
        "        svm.fit(X_train, y_train)\n",
        "        param[(i,j,k)] = svm.score(X_test,y_test)\n",
        "\n"
      ],
      "execution_count": null,
      "outputs": []
    },
    {
      "cell_type": "code",
      "metadata": {
        "id": "kY9Gv9QS-rDT"
      },
      "source": [
        "#save gridsearch result\n",
        "df = pd.DataFrame()\n",
        "\n",
        "if(kernel in ['poly','rbf']):\n",
        "\n",
        "  param = 'degree' if kernel=='poly' else 'gamma'\n",
        "\n",
        "  list1 = [i[0] for i in list(param.keys())]\n",
        "  list2 = [i[1] for i in list(param.keys())]\n",
        "  list3 = [i[2] for i in list(param.keys())]\n",
        "  values = [i for i in list(param.values())]\n",
        "\n",
        "  df['fun'] = list1\n",
        "  df['C'] = list2\n",
        "  df[param] = list3\n",
        "  df['score'] = values\n",
        "  df.to_csv('/content/drive/My Drive/project/indiana_pines/Grid_LLE/CSV/filename.csv', index=False)\n",
        "\n",
        "else:\n",
        "\n",
        "  list1 = [i[0] for i in list(param.keys())]\n",
        "  list2 = [i[1] for i in list(param.keys())]\n",
        "  values = [i for i in list(param.values())]\n",
        "\n",
        "  df['fun'] = list1\n",
        "  df['C'] = list2\n",
        "  df['score'] = values\n",
        "  df.to_csv('/content/drive/My Drive/project/indiana_pines/Grid_LLE/CSV/filename.csv', index=False)"
      ],
      "execution_count": null,
      "outputs": []
    },
    {
      "cell_type": "code",
      "metadata": {
        "id": "zcrZtfGz_jED"
      },
      "source": [
        "def get_key(val): \n",
        "    for key, value in my_dict.items(): \n",
        "         if val == value: \n",
        "             return key \n",
        "  \n",
        "    return \"key doesn't exist\""
      ],
      "execution_count": null,
      "outputs": []
    },
    {
      "cell_type": "code",
      "metadata": {
        "id": "ioIUvR1f-1D2"
      },
      "source": [
        "#assign SVM best SVM parameter from gridsearch result\n",
        "\n",
        "max_accuracy = max(list(param.values()))\n",
        "best_param = get_key(max_accuracy)\n",
        "\n",
        "if(kernel == 'poly'):\n",
        "  clf = SVC(kernel='poly', fun = best_param[0],C = best_param[1], degree = best_param[2]).fit(X_train,y_train)\n",
        "\n",
        "elif(kernel == 'rbf'):\n",
        "  clf = SVC(kernel='rbf', fun = best_param[0],C = best_param[1], gamma = best_param[2]).fit(X_train,y_train)\n",
        "\n",
        "else:\n",
        "  clf = SVC(kernel='linear', fun = best_param[0],C = best_param[1]).fit(X_train,y_train)\n",
        "\n",
        "y_pred = svm.predict(X_test)"
      ],
      "execution_count": null,
      "outputs": []
    },
    {
      "cell_type": "code",
      "metadata": {
        "id": "x7nhQP6BAn1D"
      },
      "source": [
        "confusion = confusion_matrix(y_test, y_pred)\n",
        "each_acc, aa = AA_andEachClassAccuracy(confusion)\n",
        "kappa = cohen_kappa_score(y_test, y_pred)\n",
        "\n",
        "print(\"classwise accuracy\")\n",
        "print(each_acc)\n",
        "\n",
        "print(\"kappa :\",kappa)\n",
        "print(\"aa :\",aa)\n",
        "print(\"accuracy score:\",accuracy_score(y_test,y_pred))"
      ],
      "execution_count": null,
      "outputs": []
    },
    {
      "cell_type": "code",
      "metadata": {
        "id": "okXioyE3AbGl"
      },
      "source": [
        "#visualizing output\n",
        "y_predict = SVM.predict(PCA_X)\n",
        "outputs = np.zeros((145,145))\n",
        "\n",
        "count = 0\n",
        "for i in range(145):\n",
        "  for j in range(145):\n",
        "    if(int(y[i,j])==0):\n",
        "      continue\n",
        "    else:\n",
        "      outputs[i][j] = int(y_predict[count])\n",
        "      count = count + 1\n",
        "\n",
        "predict_image = spectral.imshow(classes = outputs.astype(int),figsize =(7,7))"
      ],
      "execution_count": null,
      "outputs": []
    }
  ]
}